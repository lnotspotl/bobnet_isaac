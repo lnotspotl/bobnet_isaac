{
 "cells": [
  {
   "cell_type": "code",
   "execution_count": 19,
   "id": "9b6beac9",
   "metadata": {},
   "outputs": [],
   "source": [
    "import torch\n",
    "import time"
   ]
  },
  {
   "cell_type": "code",
   "execution_count": 20,
   "id": "03a2c941",
   "metadata": {},
   "outputs": [],
   "source": [
    "model_path = \"distilled_policy_jittable.pt_jitted.pt\""
   ]
  },
  {
   "cell_type": "code",
   "execution_count": 21,
   "id": "3ff7f603",
   "metadata": {},
   "outputs": [],
   "source": [
    "model = torch.jit.load(model_path).to(\"cpu\")"
   ]
  },
  {
   "cell_type": "code",
   "execution_count": 22,
   "id": "f2a7c743",
   "metadata": {},
   "outputs": [
    {
     "data": {
      "text/plain": [
       "tensor([-0.1607, -0.0993, -0.0354, -0.2147,  0.1871, -0.3434,  0.3042,  0.2296,\n",
       "         0.3654, -0.3920, -0.1803, -0.4837,  0.3148, -0.0780,  0.3400, -0.5270],\n",
       "       grad_fn=<SqueezeBackward0>)"
      ]
     },
     "execution_count": 22,
     "metadata": {},
     "output_type": "execute_result"
    }
   ],
   "source": [
    "input = torch.zeros((1, 344)).to(\"cpu\")\n",
    "model(input)"
   ]
  },
  {
   "cell_type": "code",
   "execution_count": 29,
   "id": "19657541",
   "metadata": {},
   "outputs": [
    {
     "name": "stdout",
     "output_type": "stream",
     "text": [
      "0.0043251610004517715\n"
     ]
    }
   ],
   "source": [
    "with torch.no_grad():\n",
    "    t1 = time.perf_counter()\n",
    "    out = model(input)\n",
    "    t2 = time.perf_counter()\n",
    "    print(t2-t1)"
   ]
  },
  {
   "cell_type": "code",
   "execution_count": null,
   "id": "520aad1b",
   "metadata": {},
   "outputs": [],
   "source": []
  }
 ],
 "metadata": {
  "kernelspec": {
   "display_name": "Python 3 (ipykernel)",
   "language": "python",
   "name": "python3"
  },
  "language_info": {
   "codemirror_mode": {
    "name": "ipython",
    "version": 3
   },
   "file_extension": ".py",
   "mimetype": "text/x-python",
   "name": "python",
   "nbconvert_exporter": "python",
   "pygments_lexer": "ipython3",
   "version": "3.8.10"
  }
 },
 "nbformat": 4,
 "nbformat_minor": 5
}
